{
 "cells": [
  {
   "cell_type": "markdown",
   "metadata": {},
   "source": [
    "Most code in this file comes from the rainbow_smoke folder in my Generative Art adventures.\n"
   ]
  },
  {
   "cell_type": "code",
   "execution_count": 1,
   "metadata": {},
   "outputs": [],
   "source": [
    "%load_ext autoreload\n",
    "%autoreload 3\n",
    "\n",
    "import numpy as np\n",
    "\n",
    "from numba import njit\n",
    "from numba import int64, njit\n",
    "from numba.typed import List\n",
    "from numba.types import Tuple"
   ]
  },
  {
   "cell_type": "markdown",
   "metadata": {},
   "source": [
    "### Testing array_heapq library\n"
   ]
  },
  {
   "cell_type": "code",
   "execution_count": 2,
   "metadata": {},
   "outputs": [],
   "source": [
    "from array_heapq import *"
   ]
  },
  {
   "cell_type": "markdown",
   "metadata": {},
   "source": [
    "##### Heapify test\n"
   ]
  },
  {
   "cell_type": "code",
   "execution_count": 6,
   "metadata": {},
   "outputs": [],
   "source": [
    "capacity = 1_000_000\n",
    "array = np.empty((capacity, 1), dtype=np.int64)\n",
    "size = capacity\n",
    "for i in range(size):\n",
    "    array[i][0] = np.random.randint(size)\n",
    "count_holder = np.array([size])\n",
    "array_heapify(array, count_holder)\n",
    "output = []\n",
    "for count in range(size, 0, -1):\n",
    "    output.append(array_heappop(array, count_holder))\n",
    "assert sorted(output) == output"
   ]
  },
  {
   "cell_type": "code",
   "execution_count": 7,
   "metadata": {},
   "outputs": [],
   "source": [
    "@njit\n",
    "def test_array_heapify(capacity, array, size):\n",
    "    for i in range(size):\n",
    "        array[i][0] = np.random.randint(capacity)\n",
    "    count_holder = np.array([size])\n",
    "    array_heapify(array, count_holder)\n",
    "    output = []\n",
    "    for count in range(size, 0, -1):\n",
    "        output.append(array_heappop(array, count_holder))\n",
    "    return output"
   ]
  },
  {
   "cell_type": "code",
   "execution_count": 8,
   "metadata": {},
   "outputs": [],
   "source": [
    "capacity = 1_000_000\n",
    "array = np.empty((capacity, 1), dtype=np.int64)\n",
    "size = capacity\n",
    "output = test_array_heapify(capacity, array, size)\n",
    "assert sorted(output) == output"
   ]
  },
  {
   "cell_type": "markdown",
   "metadata": {},
   "source": [
    "##### Heappush test\n"
   ]
  },
  {
   "cell_type": "code",
   "execution_count": 9,
   "metadata": {},
   "outputs": [],
   "source": [
    "capacity = 1_000_000\n",
    "array = np.empty((capacity, 1), dtype=np.int64)\n",
    "size = capacity\n",
    "count_holder = np.array([0])\n",
    "for count in range(size):\n",
    "    array_heappush(array, count_holder, np.random.randint(capacity))\n",
    "output = []\n",
    "for count in range(size, 0, -1):\n",
    "    output.append(array_heappop(array, count_holder))\n",
    "assert sorted(output) == output"
   ]
  },
  {
   "cell_type": "code",
   "execution_count": 10,
   "metadata": {},
   "outputs": [],
   "source": [
    "@njit\n",
    "def test_array_heappush(capacity, array, size):\n",
    "    count_holder = np.array([0])\n",
    "    for count in range(size):\n",
    "        array_heappush(array, count_holder, np.random.randint(capacity))\n",
    "    output = []\n",
    "    for count in range(size, 0, -1):\n",
    "        output.append(array_heappop(array, count_holder))\n",
    "    return output"
   ]
  },
  {
   "cell_type": "code",
   "execution_count": 11,
   "metadata": {},
   "outputs": [],
   "source": [
    "capacity = 1_000_000\n",
    "array = np.empty((capacity, 1), dtype=np.int64)\n",
    "size = capacity\n",
    "output = test_array_heappush(capacity, array, size)\n",
    "assert sorted(output) == output"
   ]
  },
  {
   "cell_type": "markdown",
   "metadata": {},
   "source": [
    "##### Interspersed push and pop tests\n"
   ]
  },
  {
   "cell_type": "code",
   "execution_count": 12,
   "metadata": {},
   "outputs": [
    {
     "name": "stdout",
     "output_type": "stream",
     "text": [
      "9776\n"
     ]
    }
   ],
   "source": [
    "capacity = 20_000\n",
    "iterations = capacity * 200\n",
    "array = np.empty((capacity, 1), dtype=np.int64)\n",
    "size = capacity // 2\n",
    "count_holder = np.array([0])\n",
    "for count in range(size):\n",
    "    array_heappush(array, count_holder, np.random.randint(capacity, size=(1,)))\n",
    "for i in range(iterations):\n",
    "    if np.random.randint(2) == 0 and size != 0 or size == capacity:\n",
    "        elem = array_heappop(array, count_holder)\n",
    "        size -= 1\n",
    "        # if size:\n",
    "        #     assert (elem[0] <= array[:size, 0]).all()\n",
    "    else:\n",
    "        array_heappush(array, count_holder, np.random.randint(capacity))\n",
    "        size += 1\n",
    "    assert count_holder[0] == size\n",
    "output = []\n",
    "for count in range(size, 0, -1):\n",
    "    output.append(array_heappop(array, count_holder))\n",
    "assert sorted(output) == output\n",
    "print(len(output))"
   ]
  },
  {
   "cell_type": "code",
   "execution_count": 13,
   "metadata": {},
   "outputs": [],
   "source": [
    "@njit\n",
    "def test_array_interspersed(capacity, array, size, iterations):\n",
    "    count_holder = np.array([0])\n",
    "    for count in range(size):\n",
    "        array_heappush(array, count_holder, np.random.randint(0, capacity, size=(1,)))\n",
    "    for i in range(iterations):\n",
    "        if np.random.randint(2) == 0 and size != 0 or size == capacity:\n",
    "            elem = array_heappop(array, count_holder)\n",
    "            size -= 1\n",
    "            # assert (elem[0] <= array[:size, 0]).all()\n",
    "        else:\n",
    "            array_heappush(array, count_holder, np.random.randint(capacity))\n",
    "            size += 1\n",
    "        assert count_holder[0] == size\n",
    "    output = []\n",
    "    for count in range(size, 0, -1):\n",
    "        output.append(array_heappop(array, count_holder))\n",
    "    return output"
   ]
  },
  {
   "cell_type": "code",
   "execution_count": 14,
   "metadata": {},
   "outputs": [
    {
     "name": "stdout",
     "output_type": "stream",
     "text": [
      "11064\n"
     ]
    }
   ],
   "source": [
    "capacity = 20_000\n",
    "iterations = capacity * 200\n",
    "array = np.empty((capacity, 1), dtype=np.int64)\n",
    "size = capacity // 2\n",
    "output = test_array_interspersed(capacity, array, size, iterations)\n",
    "assert sorted(output) == output\n",
    "print(len(output))"
   ]
  },
  {
   "cell_type": "markdown",
   "metadata": {},
   "source": [
    "### Testing array_heapq without holder for the size\n"
   ]
  },
  {
   "cell_type": "code",
   "execution_count": 2,
   "metadata": {},
   "outputs": [],
   "source": [
    "@njit\n",
    "def is_less(a, b):\n",
    "    m, n = len(a), len(b)\n",
    "    assert m == n\n",
    "    for i in range(m):\n",
    "        if a[i] < b[i]:\n",
    "            return True\n",
    "    return False\n",
    "\n",
    "\n",
    "@njit\n",
    "def heappush(heap, heap_size, item):\n",
    "    \"\"\"Push item onto heap, maintaining the heap invariant.\"\"\"\n",
    "    heap[heap_size] = item\n",
    "    heap_size += 1\n",
    "    _siftdown(heap, 0, heap_size - 1)\n",
    "\n",
    "\n",
    "@njit\n",
    "def heappop(heap, heap_size):\n",
    "    \"\"\"Pop the smallest item off the heap, maintaining the heap invariant.\"\"\"\n",
    "    lastelt = heap[heap_size - 1].copy()  # raises appropriate IndexError if heap is empty\n",
    "    heap_size -= 1\n",
    "    if heap_size:\n",
    "        returnitem = heap[0].copy()\n",
    "        heap[0] = lastelt\n",
    "        _siftup(heap, 0, heap_size)\n",
    "        return returnitem\n",
    "    return lastelt\n",
    "\n",
    "\n",
    "@njit\n",
    "def heapreplace(heap, heap_size, item):\n",
    "    \"\"\"Pop and return the current smallest value, and add the new item.\n",
    "\n",
    "    This is more efficient than heappop() followed by heappush(), and can be\n",
    "    more appropriate when using a fixed-size heap.  Note that the value\n",
    "    returned may be larger than item!  That constrains reasonable uses of\n",
    "    this routine unless written as part of a conditional replacement:\n",
    "\n",
    "        if item > heap[0]:\n",
    "            item = heapreplace(heap, item)\n",
    "    \"\"\"\n",
    "    returnitem = heap[0].copy()  # raises appropriate IndexError if heap is empty\n",
    "    heap[0] = item\n",
    "    _siftup(heap, 0, heap_size)\n",
    "    return returnitem\n",
    "\n",
    "\n",
    "@njit\n",
    "def heappushpop(heap, heap_size, item):\n",
    "    \"\"\"Fast version of a heappush followed by a heappop.\"\"\"\n",
    "    if heap and heap[0] < item:\n",
    "        item, heap[0] = heap[0], item\n",
    "        _siftup(heap, 0, heap_size)\n",
    "    return item\n",
    "\n",
    "\n",
    "@njit\n",
    "def heapify(x, heap_size):\n",
    "    \"\"\"Transform list into a heap, in-place, in O(len(x)) time.\"\"\"\n",
    "    n = heap_size\n",
    "    # Transform bottom-up.  The largest index there's any point to looking at\n",
    "    # is the largest with a child index in-range, so must have 2*i + 1 < n,\n",
    "    # or i < (n-1)/2.  If n is even = 2*j, this is (2*j-1)/2 = j-1/2 so\n",
    "    # j-1 is the largest, which is n//2 - 1.  If n is odd = 2*j+1, this is\n",
    "    # (2*j+1-1)/2 = j so j-1 is the largest, and that's again n//2-1.\n",
    "    for i in range(n // 2 - 1, -1, -1):\n",
    "        _siftup(x, i, heap_size)\n",
    "\n",
    "\n",
    "# 'heap' is a heap at all indices >= startpos, except possibly for pos.  pos\n",
    "# is the index of a leaf with a possibly out-of-order value.  Restore the\n",
    "# heap invariant.\n",
    "@njit\n",
    "def _siftdown(heap, startpos, pos):\n",
    "    newitem = heap[pos].copy()\n",
    "    # Follow the path to the root, moving parents down until finding a place\n",
    "    # newitem fits.\n",
    "    while pos > startpos:\n",
    "        parentpos = (pos - 1) >> 1\n",
    "        parent = heap[parentpos]\n",
    "        if is_less(newitem, parent):\n",
    "            heap[pos] = parent\n",
    "            pos = parentpos\n",
    "            continue\n",
    "        break\n",
    "    heap[pos] = newitem\n",
    "\n",
    "\n",
    "# The child indices of heap index pos are already heaps, and we want to make\n",
    "# a heap at index pos too.  We do this by bubbling the smaller child of\n",
    "# pos up (and so on with that child's children, etc) until hitting a leaf,\n",
    "# then using _siftdown to move the oddball originally at index pos into place.\n",
    "@njit\n",
    "def _siftup(heap, pos, endpos):\n",
    "    startpos = pos\n",
    "    newitem = heap[pos].copy()\n",
    "    # Bubble up the smaller child until hitting a leaf.\n",
    "    childpos = 2 * pos + 1  # leftmost child position\n",
    "    while childpos < endpos:\n",
    "        # Set childpos to index of smaller child.\n",
    "        rightpos = childpos + 1\n",
    "        if rightpos < endpos and not is_less(heap[childpos], heap[rightpos]):\n",
    "            childpos = rightpos\n",
    "        # Move the smaller child up.\n",
    "        heap[pos] = heap[childpos]\n",
    "        pos = childpos\n",
    "        childpos = 2 * pos + 1\n",
    "    # The leaf at pos is empty now.  Put newitem there, and bubble it up\n",
    "    # to its final resting place (by sifting its parents down).\n",
    "    heap[pos] = newitem\n",
    "    _siftdown(heap, startpos, pos)\n",
    "\n",
    "\n",
    "array_is_less = is_less\n",
    "array_heappush = heappush\n",
    "array_heappop = heappop\n",
    "array_heapreplace = heapreplace\n",
    "array_heappushpop = heappushpop\n",
    "array_heapify = heapify"
   ]
  },
  {
   "cell_type": "markdown",
   "metadata": {},
   "source": [
    "##### Heapify test\n"
   ]
  },
  {
   "cell_type": "code",
   "execution_count": 5,
   "metadata": {},
   "outputs": [],
   "source": [
    "capacity = 1_000_000\n",
    "array = np.empty((capacity, 1), dtype=np.int64)\n",
    "size = capacity\n",
    "for i in range(size):\n",
    "    array[i][0] = np.random.randint(size)\n",
    "array_heapify(array, size)\n",
    "output = []\n",
    "for count in range(size, 0, -1):\n",
    "    output.append(array_heappop(array, count))\n",
    "assert sorted(output) == output"
   ]
  },
  {
   "cell_type": "code",
   "execution_count": 6,
   "metadata": {},
   "outputs": [],
   "source": [
    "@njit\n",
    "def test_array_heapify(capacity, array, size):\n",
    "    for i in range(size):\n",
    "        array[i][0] = np.random.randint(capacity)\n",
    "    array_heapify(array, size)\n",
    "    output = []\n",
    "    for count in range(size, 0, -1):\n",
    "        output.append(array_heappop(array, count))\n",
    "    return output"
   ]
  },
  {
   "cell_type": "code",
   "execution_count": 8,
   "metadata": {},
   "outputs": [],
   "source": [
    "capacity = 1_000_000\n",
    "array = np.empty((capacity, 1), dtype=np.int64)\n",
    "size = capacity\n",
    "output = test_array_heapify(capacity, array, size)\n",
    "assert sorted(output) == output"
   ]
  },
  {
   "cell_type": "markdown",
   "metadata": {},
   "source": [
    "##### Heappush test\n"
   ]
  },
  {
   "cell_type": "code",
   "execution_count": 9,
   "metadata": {},
   "outputs": [],
   "source": [
    "capacity = 1_000_000\n",
    "array = np.empty((capacity, 1), dtype=np.int64)\n",
    "size = capacity\n",
    "for count in range(size):\n",
    "    array_heappush(array, count, np.random.randint(capacity))\n",
    "output = []\n",
    "for count in range(size, 0, -1):\n",
    "    output.append(array_heappop(array, count))\n",
    "assert sorted(output) == output"
   ]
  },
  {
   "cell_type": "code",
   "execution_count": 10,
   "metadata": {},
   "outputs": [],
   "source": [
    "@njit\n",
    "def test_array_heappush(capacity, array, size):\n",
    "    for count in range(size):\n",
    "        array_heappush(array, count, np.random.randint(capacity))\n",
    "    output = []\n",
    "    for count in range(size, 0, -1):\n",
    "        output.append(array_heappop(array, count))\n",
    "    return output"
   ]
  },
  {
   "cell_type": "code",
   "execution_count": 119,
   "metadata": {},
   "outputs": [],
   "source": [
    "capacity = 1_000_000\n",
    "array = np.empty((capacity, 1), dtype=np.int64)\n",
    "size = capacity\n",
    "output = test_array_heappush(capacity, array, size)\n",
    "assert sorted(output) == output"
   ]
  },
  {
   "cell_type": "markdown",
   "metadata": {},
   "source": [
    "##### Interspersed push and pop tests\n"
   ]
  },
  {
   "cell_type": "code",
   "execution_count": 168,
   "metadata": {},
   "outputs": [
    {
     "name": "stdout",
     "output_type": "stream",
     "text": [
      "12196\n"
     ]
    }
   ],
   "source": [
    "capacity = 20_000\n",
    "iterations = capacity * 200\n",
    "array = np.empty((capacity, 1), dtype=np.int64)\n",
    "size = capacity // 2\n",
    "for count in range(size):\n",
    "    array_heappush(array, count, np.random.randint(capacity, size=(1,)))\n",
    "for i in range(iterations):\n",
    "    if np.random.randint(2) == 0 and size != 0 or size == capacity:\n",
    "        elem = array_heappop(array, size)\n",
    "        size -= 1\n",
    "        # if size:\n",
    "        #     assert (elem[0] <= array[:size, 0]).all()\n",
    "    else:\n",
    "        array_heappush(array, size, np.random.randint(capacity))\n",
    "        size += 1\n",
    "output = []\n",
    "for count in range(size, 0, -1):\n",
    "    output.append(array_heappop(array, count))\n",
    "assert sorted(output) == output\n",
    "print(len(output))"
   ]
  },
  {
   "cell_type": "code",
   "execution_count": 157,
   "metadata": {},
   "outputs": [],
   "source": [
    "@njit\n",
    "def test_array_interspersed(capacity, array, size, iterations):\n",
    "    for count in range(size):\n",
    "        array_heappush(array, count, np.random.randint(0, capacity, size=(1,)))\n",
    "    for i in range(iterations):\n",
    "        if np.random.randint(2) == 0 and size != 0 or size == capacity:\n",
    "            elem = array_heappop(array, size)\n",
    "            size -= 1\n",
    "            # assert (elem[0] <= array[:size, 0]).all()\n",
    "        else:\n",
    "            array_heappush(array, size, np.random.randint(capacity))\n",
    "            size += 1\n",
    "    output = []\n",
    "    for count in range(size, 0, -1):\n",
    "        output.append(array_heappop(array, count))\n",
    "    return output"
   ]
  },
  {
   "cell_type": "code",
   "execution_count": 165,
   "metadata": {},
   "outputs": [
    {
     "name": "stdout",
     "output_type": "stream",
     "text": [
      "13300\n"
     ]
    }
   ],
   "source": [
    "capacity = 20_000\n",
    "iterations = capacity * 200\n",
    "array = np.empty((capacity, 1), dtype=np.int64)\n",
    "size = capacity // 2\n",
    "output = test_array_interspersed(capacity, array, size, iterations)\n",
    "assert sorted(output) == output\n",
    "print(len(output))"
   ]
  },
  {
   "cell_type": "markdown",
   "metadata": {},
   "source": [
    "### Testing njit list heapq\n"
   ]
  },
  {
   "cell_type": "code",
   "execution_count": 67,
   "metadata": {},
   "outputs": [],
   "source": [
    "@njit\n",
    "def heappush(heap, item):\n",
    "    \"\"\"Push item onto heap, maintaining the heap invariant.\"\"\"\n",
    "    heap.append(item)\n",
    "    _siftdown(heap, 0, len(heap) - 1)\n",
    "\n",
    "\n",
    "@njit\n",
    "def heappop(heap):\n",
    "    \"\"\"Pop the smallest item off the heap, maintaining the heap invariant.\"\"\"\n",
    "    lastelt = heap.pop()  # raises appropriate IndexError if heap is empty\n",
    "    if heap:\n",
    "        returnitem = heap[0]\n",
    "        heap[0] = lastelt\n",
    "        _siftup(heap, 0)\n",
    "        return returnitem\n",
    "    return lastelt\n",
    "\n",
    "\n",
    "@njit\n",
    "def heapreplace(heap, item):\n",
    "    \"\"\"Pop and return the current smallest value, and add the new item.\n",
    "\n",
    "    This is more efficient than heappop() followed by heappush(), and can be\n",
    "    more appropriate when using a fixed-size heap.  Note that the value\n",
    "    returned may be larger than item!  That constrains reasonable uses of\n",
    "    this routine unless written as part of a conditional replacement:\n",
    "\n",
    "        if item > heap[0]:\n",
    "            item = heapreplace(heap, item)\n",
    "    \"\"\"\n",
    "    returnitem = heap[0]  # raises appropriate IndexError if heap is empty\n",
    "    heap[0] = item\n",
    "    _siftup(heap, 0)\n",
    "    return returnitem\n",
    "\n",
    "\n",
    "@njit\n",
    "def heappushpop(heap, item):\n",
    "    \"\"\"Fast version of a heappush followed by a heappop.\"\"\"\n",
    "    if heap and heap[0] < item:\n",
    "        item, heap[0] = heap[0], item\n",
    "        _siftup(heap, 0)\n",
    "    return item\n",
    "\n",
    "\n",
    "@njit\n",
    "def heapify(x):\n",
    "    \"\"\"Transform list into a heap, in-place, in O(len(x)) time.\"\"\"\n",
    "    n = len(x)\n",
    "    # Transform bottom-up.  The largest index there's any point to looking at\n",
    "    # is the largest with a child index in-range, so must have 2*i + 1 < n,\n",
    "    # or i < (n-1)/2.  If n is even = 2*j, this is (2*j-1)/2 = j-1/2 so\n",
    "    # j-1 is the largest, which is n//2 - 1.  If n is odd = 2*j+1, this is\n",
    "    # (2*j+1-1)/2 = j so j-1 is the largest, and that's again n//2-1.\n",
    "    for i in range(n // 2 - 1, -1, -1):\n",
    "        _siftup(x, i)\n",
    "\n",
    "\n",
    "# 'heap' is a heap at all indices >= startpos, except possibly for pos.  pos\n",
    "# is the index of a leaf with a possibly out-of-order value.  Restore the\n",
    "# heap invariant.\n",
    "@njit\n",
    "def _siftdown(heap, startpos, pos):\n",
    "    newitem = heap[pos]\n",
    "    # Follow the path to the root, moving parents down until finding a place\n",
    "    # newitem fits.\n",
    "    while pos > startpos:\n",
    "        parentpos = (pos - 1) >> 1\n",
    "        parent = heap[parentpos]\n",
    "        if newitem < parent:\n",
    "            heap[pos] = parent\n",
    "            pos = parentpos\n",
    "            continue\n",
    "        break\n",
    "    heap[pos] = newitem\n",
    "\n",
    "\n",
    "# The child indices of heap index pos are already heaps, and we want to make\n",
    "# a heap at index pos too.  We do this by bubbling the smaller child of\n",
    "# pos up (and so on with that child's children, etc) until hitting a leaf,\n",
    "# then using _siftdown to move the oddball originally at index pos into place.\n",
    "@njit\n",
    "def _siftup(heap, pos):\n",
    "    endpos = len(heap)\n",
    "    startpos = pos\n",
    "    newitem = heap[pos]\n",
    "    # Bubble up the smaller child until hitting a leaf.\n",
    "    childpos = 2 * pos + 1  # leftmost child position\n",
    "    while childpos < endpos:\n",
    "        # Set childpos to index of smaller child.\n",
    "        rightpos = childpos + 1\n",
    "        if rightpos < endpos and not heap[childpos] < heap[rightpos]:\n",
    "            childpos = rightpos\n",
    "        # Move the smaller child up.\n",
    "        heap[pos] = heap[childpos]\n",
    "        pos = childpos\n",
    "        childpos = 2 * pos + 1\n",
    "    # The leaf at pos is empty now.  Put newitem there, and bubble it up\n",
    "    # to its final resting place (by sifting its parents down).\n",
    "    heap[pos] = newitem\n",
    "    _siftdown(heap, startpos, pos)\n",
    "\n",
    "\n",
    "njit_heappush = heappush\n",
    "njit_heappop = heappop\n",
    "njit_heapreplace = heapreplace\n",
    "njit_heappushpop = heappushpop\n",
    "njit_heapify = heapify"
   ]
  },
  {
   "cell_type": "markdown",
   "metadata": {},
   "source": [
    "##### Heapify test\n"
   ]
  },
  {
   "cell_type": "code",
   "execution_count": 112,
   "metadata": {},
   "outputs": [],
   "source": [
    "size = 1_000_000\n",
    "array = List.empty_list(Tuple((int64,)))\n",
    "for count in range(size):\n",
    "    array.append((np.random.randint(capacity),))\n",
    "njit_heapify(array)\n",
    "output = []\n",
    "for count in range(size, 0, -1):\n",
    "    output.append(njit_heappop(array))\n",
    "assert sorted(output) == output"
   ]
  },
  {
   "cell_type": "code",
   "execution_count": 250,
   "metadata": {},
   "outputs": [],
   "source": [
    "@njit\n",
    "def test_njit_heapify(array, size):\n",
    "    for i in range(size):\n",
    "        array.append((np.random.randint(capacity),))\n",
    "    njit_heapify(array)\n",
    "    output = []\n",
    "    for count in range(size, 0, -1):\n",
    "        output.append(njit_heappop(array))\n",
    "    return output"
   ]
  },
  {
   "cell_type": "code",
   "execution_count": 252,
   "metadata": {},
   "outputs": [],
   "source": [
    "size = 1_000_000\n",
    "array = List.empty_list(Tuple((int64,)))\n",
    "output = test_njit_heapify(array, size)\n",
    "assert sorted(output) == output"
   ]
  },
  {
   "cell_type": "markdown",
   "metadata": {},
   "source": [
    "##### Heappush test\n"
   ]
  },
  {
   "cell_type": "code",
   "execution_count": 113,
   "metadata": {},
   "outputs": [],
   "source": [
    "size = 1_000_000\n",
    "array = List.empty_list(Tuple((int64,)))\n",
    "for count in range(size):\n",
    "    njit_heappush(array, (np.random.randint(capacity),))\n",
    "output = []\n",
    "for count in range(size, 0, -1):\n",
    "    output.append(njit_heappop(array))\n",
    "assert sorted(output) == output"
   ]
  },
  {
   "cell_type": "code",
   "execution_count": 115,
   "metadata": {},
   "outputs": [],
   "source": [
    "@njit\n",
    "def test_njit_heappush(array, size):\n",
    "    for count in range(size):\n",
    "        njit_heappush(array, (np.random.randint(capacity),))\n",
    "    output = []\n",
    "    for count in range(size, 0, -1):\n",
    "        output.append(njit_heappop(array))\n",
    "    return output"
   ]
  },
  {
   "cell_type": "code",
   "execution_count": 117,
   "metadata": {},
   "outputs": [],
   "source": [
    "size = 1_000_000\n",
    "array = List.empty_list(Tuple((int64,)))\n",
    "output = test_njit_heappush(array, size)\n",
    "assert sorted(output) == output"
   ]
  },
  {
   "cell_type": "markdown",
   "metadata": {},
   "source": [
    "##### Interspersed push and pop tests\n"
   ]
  },
  {
   "cell_type": "code",
   "execution_count": 169,
   "metadata": {},
   "outputs": [
    {
     "name": "stdout",
     "output_type": "stream",
     "text": [
      "11026\n"
     ]
    }
   ],
   "source": [
    "capacity = 20_000\n",
    "iterations = capacity * 200\n",
    "array = List.empty_list(Tuple((int64,)))\n",
    "size = capacity // 2\n",
    "for count in range(size):\n",
    "    njit_heappush(array, (np.random.randint(capacity),))\n",
    "for i in range(iterations):\n",
    "    if np.random.randint(2) == 0 and size != 0 or size == capacity:\n",
    "        elem = njit_heappop(array)\n",
    "        size -= 1\n",
    "        assert len(array) == size\n",
    "        # if size:\n",
    "        #     assert all(elem <= array[i] for i in range(size))\n",
    "    else:\n",
    "        njit_heappush(array, (np.random.randint(capacity),))\n",
    "        size += 1\n",
    "        assert len(array) == size\n",
    "output = []\n",
    "for count in range(size, 0, -1):\n",
    "    output.append(njit_heappop(array))\n",
    "assert sorted(output) == output\n",
    "print(len(output))"
   ]
  },
  {
   "cell_type": "code",
   "execution_count": 153,
   "metadata": {},
   "outputs": [],
   "source": [
    "@njit\n",
    "def test_njit_interspersed(capacity, array, size, iterations):\n",
    "    for count in range(size):\n",
    "        njit_heappush(array, (np.random.randint(capacity),))\n",
    "    for i in range(iterations):\n",
    "        if np.random.randint(2) == 0 and size != 0 or size == capacity:\n",
    "            elem = njit_heappop(array)\n",
    "            size -= 1\n",
    "            # assert len(array) == size\n",
    "            # for i in range(size):\n",
    "            #     assert elem <= array[i]\n",
    "        else:\n",
    "            njit_heappush(array, (np.random.randint(capacity),))\n",
    "            size += 1\n",
    "            # assert len(array) == size\n",
    "    output = []\n",
    "    for count in range(size, 0, -1):\n",
    "        output.append(njit_heappop(array))\n",
    "    return output"
   ]
  },
  {
   "cell_type": "code",
   "execution_count": 166,
   "metadata": {},
   "outputs": [
    {
     "name": "stdout",
     "output_type": "stream",
     "text": [
      "8968\n"
     ]
    }
   ],
   "source": [
    "capacity = 20_000\n",
    "iterations = capacity * 200\n",
    "array = List.empty_list(Tuple((int64,)))\n",
    "size = capacity // 2\n",
    "output = test_njit_interspersed(capacity, array, size, iterations)\n",
    "assert sorted(output) == output\n",
    "print(len(output))"
   ]
  },
  {
   "cell_type": "markdown",
   "metadata": {},
   "source": [
    "### Testing heapq, original Python\n"
   ]
  },
  {
   "cell_type": "code",
   "execution_count": 100,
   "metadata": {},
   "outputs": [],
   "source": [
    "from heapq import *\n",
    "\n",
    "python_heappush = heappush\n",
    "python_heappop = heappop\n",
    "python_heapreplace = heapreplace\n",
    "python_heappushpop = heappushpop\n",
    "python_heapify = heapify"
   ]
  },
  {
   "cell_type": "markdown",
   "metadata": {},
   "source": [
    "##### Heapify test\n"
   ]
  },
  {
   "cell_type": "code",
   "execution_count": 120,
   "metadata": {},
   "outputs": [],
   "source": [
    "size = 1_000_000\n",
    "array = []\n",
    "for count in range(size):\n",
    "    array.append((np.random.randint(capacity),))\n",
    "python_heapify(array)\n",
    "output = []\n",
    "for count in range(size, 0, -1):\n",
    "    output.append(python_heappop(array))\n",
    "assert sorted(output) == output"
   ]
  },
  {
   "cell_type": "code",
   "execution_count": 109,
   "metadata": {},
   "outputs": [],
   "source": [
    "@njit\n",
    "def test_python_heapify(array, size):\n",
    "    for i in range(size):\n",
    "        array.append((np.random.randint(capacity),))\n",
    "    python_heapify(array)\n",
    "    output = []\n",
    "    for count in range(size, 0, -1):\n",
    "        output.append(python_heappop(array))\n",
    "    return output"
   ]
  },
  {
   "cell_type": "code",
   "execution_count": 111,
   "metadata": {},
   "outputs": [],
   "source": [
    "size = 1_000_000\n",
    "array = List.empty_list(Tuple((int64,)))\n",
    "output = test_python_heapify(array, size)\n",
    "assert sorted(output) == output"
   ]
  },
  {
   "cell_type": "markdown",
   "metadata": {},
   "source": [
    "##### Heappush test\n"
   ]
  },
  {
   "cell_type": "code",
   "execution_count": 122,
   "metadata": {},
   "outputs": [],
   "source": [
    "size = 1_000_000\n",
    "array = []\n",
    "for count in range(size):\n",
    "    python_heappush(array, (np.random.randint(capacity),))\n",
    "output = []\n",
    "for count in range(size, 0, -1):\n",
    "    output.append(python_heappop(array))\n",
    "assert sorted(output) == output"
   ]
  },
  {
   "cell_type": "code",
   "execution_count": 126,
   "metadata": {},
   "outputs": [],
   "source": [
    "@njit\n",
    "def test_python_heappush(array, size):\n",
    "    for count in range(size):\n",
    "        python_heappush(array, (np.random.randint(capacity),))\n",
    "    output = []\n",
    "    for count in range(size, 0, -1):\n",
    "        output.append(njit_heappop(array))\n",
    "    return output"
   ]
  },
  {
   "cell_type": "code",
   "execution_count": 128,
   "metadata": {},
   "outputs": [],
   "source": [
    "size = 1_000_000\n",
    "array = List.empty_list(Tuple((int64,)))\n",
    "output = test_python_heappush(array, size)\n",
    "assert sorted(output) == output"
   ]
  },
  {
   "cell_type": "markdown",
   "metadata": {},
   "source": [
    "##### Interspersed push and pop tests\n"
   ]
  },
  {
   "cell_type": "code",
   "execution_count": 170,
   "metadata": {},
   "outputs": [
    {
     "name": "stdout",
     "output_type": "stream",
     "text": [
      "5280\n"
     ]
    }
   ],
   "source": [
    "capacity = 20_000\n",
    "iterations = capacity * 200\n",
    "array = []\n",
    "size = capacity // 2\n",
    "for count in range(size):\n",
    "    python_heappush(array, (np.random.randint(capacity),))\n",
    "for i in range(iterations):\n",
    "    if np.random.randint(2) == 0 and size != 0 or size == capacity:\n",
    "        elem = python_heappop(array)\n",
    "        size -= 1\n",
    "        assert len(array) == size\n",
    "        # if size:\n",
    "        #     assert all(elem <= array[i] for i in range(size))\n",
    "    else:\n",
    "        python_heappush(array, (np.random.randint(capacity),))\n",
    "        size += 1\n",
    "        assert len(array) == size\n",
    "output = []\n",
    "for count in range(size, 0, -1):\n",
    "    output.append(python_heappop(array))\n",
    "assert sorted(output) == output\n",
    "print(len(output))"
   ]
  },
  {
   "cell_type": "code",
   "execution_count": 140,
   "metadata": {},
   "outputs": [],
   "source": [
    "@njit\n",
    "def test_python_interspersed(capacity, array, size, iterations):\n",
    "    for count in range(size):\n",
    "        python_heappush(array, (np.random.randint(capacity),))\n",
    "    for i in range(iterations):\n",
    "        if np.random.randint(2) == 0 and size != 0 or size == capacity:\n",
    "            elem = python_heappop(array)\n",
    "            size -= 1\n",
    "            # assert len(array) == size\n",
    "            # for i in range(size):\n",
    "            #     assert elem <= array[i]\n",
    "        else:\n",
    "            python_heappush(array, (np.random.randint(capacity),))\n",
    "            size += 1\n",
    "            # assert len(array) == size\n",
    "    output = []\n",
    "    for count in range(size, 0, -1):\n",
    "        output.append(python_heappop(array))\n",
    "    return output"
   ]
  },
  {
   "cell_type": "code",
   "execution_count": 167,
   "metadata": {},
   "outputs": [
    {
     "name": "stdout",
     "output_type": "stream",
     "text": [
      "11492\n"
     ]
    }
   ],
   "source": [
    "capacity = 20_000\n",
    "iterations = capacity * 200\n",
    "array = List.empty_list(Tuple((int64,)))\n",
    "size = capacity // 2\n",
    "output = test_python_interspersed(capacity, array, size, iterations)\n",
    "assert sorted(output) == output\n",
    "print(len(output))"
   ]
  }
 ],
 "metadata": {
  "kernelspec": {
   "display_name": "base",
   "language": "python",
   "name": "python3"
  },
  "language_info": {
   "codemirror_mode": {
    "name": "ipython",
    "version": 3
   },
   "file_extension": ".py",
   "mimetype": "text/x-python",
   "name": "python",
   "nbconvert_exporter": "python",
   "pygments_lexer": "ipython3",
   "version": "3.12.7"
  }
 },
 "nbformat": 4,
 "nbformat_minor": 2
}
